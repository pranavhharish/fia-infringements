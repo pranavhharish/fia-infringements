{
  "cells": [
    {
      "cell_type": "markdown",
      "metadata": {},
      "source": [
        "# Mercedes F1 Infringement Document Filter\n",
        "\n",
        "This notebook extracts Mercedes-specific infringement documents from the FIA PDF collection and converts them to text files for further processing.\n",
        "\n",
        "## Objective\n",
        "- Parse all PDF files in the Documents folder\n",
        "- Filter for documents addressed to \"Mercedes-AMG PETRONAS F1 Team\"\n",
        "- Extract text content from filtered PDFs\n",
        "- Save as individual .txt files organized by year\n"
      ]
    },
    {
      "cell_type": "code",
      "execution_count": 10,
      "metadata": {},
      "outputs": [
        {
          "name": "stdout",
          "output_type": "stream",
          "text": [
            "Requirement already satisfied: PyPDF2 in /opt/anaconda3/envs/textmining/lib/python3.12/site-packages (3.0.1)\n",
            "Note: you may need to restart the kernel to use updated packages.\n"
          ]
        }
      ],
      "source": [
        "pip install PyPDF2"
      ]
    },
    {
      "cell_type": "code",
      "execution_count": 11,
      "metadata": {},
      "outputs": [],
      "source": [
        "# Import required libraries\n",
        "import os\n",
        "import re\n",
        "from pathlib import Path\n",
        "import PyPDF2\n",
        "import pandas as pd\n",
        "from tqdm import tqdm\n",
        "import warnings\n",
        "warnings.filterwarnings('ignore')\n"
      ]
    },
    {
      "cell_type": "code",
      "execution_count": 13,
      "metadata": {},
      "outputs": [
        {
          "name": "stdout",
          "output_type": "stream",
          "text": [
            "Available year folders:\n",
            "  2020-infringement_profile: 131 PDF files\n",
            "  2021-infringement_profile: 175 PDF files\n",
            "  2022-infringement_profile: 227 PDF files\n",
            "  2023-infringement_profile: 194 PDF files\n",
            "  2024-infringement_profile: 215 PDF files\n"
          ]
        }
      ],
      "source": [
        "# Define paths\n",
        "base_path = Path(\"Documents\")\n",
        "years = [\"2020-infringement_profile\", \"2021-infringement_profile\", \n",
        "         \"2022-infringement_profile\", \"2023-infringement_profile\" , \"2024-infringement_profile\"]\n",
        "\n",
        "print(\"Available year folders:\")\n",
        "for year in years:\n",
        "    year_path = base_path / year\n",
        "    if year_path.exists():\n",
        "        pdf_count = len(list(year_path.glob(\"*.pdf\")))\n",
        "        print(f\"  {year}: {pdf_count} PDF files\")\n"
      ]
    },
    {
      "cell_type": "code",
      "execution_count": 14,
      "metadata": {},
      "outputs": [],
      "source": [
        "# Function to extract text from PDF\n",
        "def extract_pdf_text(pdf_path):\n",
        "    \"\"\"\n",
        "    Extract text from PDF file\n",
        "    Returns the full text content\n",
        "    \"\"\"\n",
        "    try:\n",
        "        with open(pdf_path, 'rb') as file:\n",
        "            pdf_reader = PyPDF2.PdfReader(file)\n",
        "            text = \"\"\n",
        "            \n",
        "            for page_num in range(len(pdf_reader.pages)):\n",
        "                page = pdf_reader.pages[page_num]\n",
        "                text += page.extract_text() + \"\\n\"\n",
        "            \n",
        "            return text\n",
        "    except Exception as e:\n",
        "        print(f\"Error reading {pdf_path}: {e}\")\n",
        "        return None\n"
      ]
    },
    {
      "cell_type": "code",
      "execution_count": 15,
      "metadata": {},
      "outputs": [],
      "source": [
        "# Updated function to check if document is addressed to Mercedes (includes car numbers)\n",
        "def is_mercedes_document_updated(text):\n",
        "    \"\"\"\n",
        "    Check if the document is addressed to Mercedes team or involves Mercedes drivers\n",
        "    Look for the specific header pattern and car numbers\n",
        "    \"\"\"\n",
        "    if not text:\n",
        "        return False\n",
        "    \n",
        "    # Convert to lowercase for case-insensitive matching\n",
        "    text_lower = text.lower()\n",
        "    \n",
        "    # Look for Mercedes team references in the header section\n",
        "    mercedes_patterns = [\n",
        "        r'to:\\s*the team manager,?\\s*mercedes[-\\s]*amg\\s*petronas\\s*f1\\s*team',\n",
        "        r'mercedes[-\\s]*amg\\s*petronas\\s*f1\\s*team',\n",
        "        r'mercedes\\s*petronas\\s*f1\\s*team',\n",
        "        r'mercedes\\s*amg\\s*petronas'\n",
        "    ]\n",
        "    \n",
        "    # Mercedes car numbers by year:\n",
        "    # 2020-2021: Car 44 (Hamilton), Car 77 (Bottas)\n",
        "    # 2022-2023: Car 44 (Hamilton), Car 63 (Russell)\n",
        "    # Also Car 42 (Bottas in some contexts)\n",
        "    mercedes_car_numbers = [44, 77, 63, 42]\n",
        "    \n",
        "    # Check first 2000 characters (header section)\n",
        "    header_section = text_lower[:2000]\n",
        "    \n",
        "    # Check for Mercedes team references\n",
        "    for pattern in mercedes_patterns:\n",
        "        if re.search(pattern, header_section, re.IGNORECASE):\n",
        "            return True\n",
        "    \n",
        "    # Check for Mercedes car numbers in document title/header\n",
        "    # Look for patterns like \"Car 44\", \"Car 77\", etc.\n",
        "    for car_num in mercedes_car_numbers:\n",
        "        car_pattern = rf'\\bcar\\s*{car_num}\\b'\n",
        "        if re.search(car_pattern, header_section, re.IGNORECASE):\n",
        "            return True\n",
        "    \n",
        "    return False\n",
        "\n",
        "# Use the updated function instead of the original\n",
        "is_mercedes_document = is_mercedes_document_updated\n"
      ]
    },
    {
      "cell_type": "code",
      "execution_count": 16,
      "metadata": {},
      "outputs": [],
      "source": [
        "# Function to check if document is addressed to Mercedes\n",
        "def is_mercedes_document(text):\n",
        "    \"\"\"\n",
        "    Check if the document is addressed to Mercedes team\n",
        "    Look for the specific header pattern\n",
        "    \"\"\"\n",
        "    if not text:\n",
        "        return False\n",
        "    \n",
        "    # Convert to lowercase for case-insensitive matching\n",
        "    text_lower = text.lower()\n",
        "    \n",
        "    # Look for Mercedes team references in the header section\n",
        "    mercedes_patterns = [\n",
        "        r'to:\\s*the team manager,?\\s*mercedes[-\\s]*amg\\s*petronas\\s*f1\\s*team',\n",
        "        r'mercedes[-\\s]*amg\\s*petronas\\s*f1\\s*team',\n",
        "        r'mercedes\\s*petronas\\s*f1\\s*team',\n",
        "        r'mercedes\\s*amg\\s*petronas'\n",
        "    ]\n",
        "    \n",
        "    # Check first 2000 characters (header section)\n",
        "    header_section = text_lower[:2000]\n",
        "    \n",
        "    for pattern in mercedes_patterns:\n",
        "        if re.search(pattern, header_section, re.IGNORECASE):\n",
        "            return True\n",
        "    \n",
        "    return False\n"
      ]
    },
    {
      "cell_type": "code",
      "execution_count": 17,
      "metadata": {},
      "outputs": [],
      "source": [
        "# Function to clean and save text content\n",
        "def clean_text(text):\n",
        "    \"\"\"\n",
        "    Clean extracted text\n",
        "    \"\"\"\n",
        "    if not text:\n",
        "        return \"\"\n",
        "    \n",
        "    # Remove excessive whitespace and normalize\n",
        "    text = re.sub(r'\\s+', ' ', text)\n",
        "    text = text.strip()\n",
        "    \n",
        "    return text\n"
      ]
    },
    {
      "cell_type": "code",
      "execution_count": 18,
      "metadata": {},
      "outputs": [],
      "source": [
        "# Main processing function\n",
        "def process_year_folder(year_folder):\n",
        "    \"\"\"\n",
        "    Process all PDFs in a year folder and extract Mercedes documents\n",
        "    \"\"\"\n",
        "    year_path = base_path / year_folder\n",
        "    if not year_path.exists():\n",
        "        print(f\"Folder {year_path} does not exist\")\n",
        "        return\n",
        "    \n",
        "    pdf_files = list(year_path.glob(\"*.pdf\"))\n",
        "    print(f\"\\nProcessing {len(pdf_files)} PDF files in {year_folder}...\")\n",
        "    \n",
        "    mercedes_docs = []\n",
        "    \n",
        "    for pdf_file in tqdm(pdf_files, desc=\"Processing PDFs\"):\n",
        "        # Extract text from PDF\n",
        "        text = extract_pdf_text(pdf_file)\n",
        "        \n",
        "        if text and is_mercedes_document(text):\n",
        "            # Clean the text\n",
        "            cleaned_text = clean_text(text)\n",
        "            \n",
        "            # Create output filename\n",
        "            txt_filename = pdf_file.stem + \".txt\"\n",
        "            txt_path = year_path / txt_filename\n",
        "            \n",
        "            # Save as text file\n",
        "            try:\n",
        "                with open(txt_path, 'w', encoding='utf-8') as f:\n",
        "                    f.write(cleaned_text)\n",
        "                \n",
        "                mercedes_docs.append({\n",
        "                    'pdf_file': pdf_file.name,\n",
        "                    'txt_file': txt_filename,\n",
        "                    'year': year_folder,\n",
        "                    'text_length': len(cleaned_text)\n",
        "                })\n",
        "                \n",
        "                print(f\"✓ Found Mercedes document: {pdf_file.name}\")\n",
        "                \n",
        "            except Exception as e:\n",
        "                print(f\"Error saving {txt_filename}: {e}\")\n",
        "    \n",
        "    return mercedes_docs\n"
      ]
    },
    {
      "cell_type": "code",
      "execution_count": 19,
      "metadata": {},
      "outputs": [
        {
          "name": "stdout",
          "output_type": "stream",
          "text": [
            "\n",
            "Processing 131 PDF files in 2020-infringement_profile...\n"
          ]
        },
        {
          "name": "stderr",
          "output_type": "stream",
          "text": [
            "Processing PDFs:  15%|█▍        | 19/131 [00:00<00:00, 184.35it/s]"
          ]
        },
        {
          "name": "stdout",
          "output_type": "stream",
          "text": [
            "✓ Found Mercedes document: 2020 Austrian Grand Prix - Decision - Car 44 - alleged failure to slow for yellow flags.pdf\n",
            "✓ Found Mercedes document: 2020 Austrian Grand Prix - Offence - Car 44 - Failure to slow for yellow flags (post review).pdf\n"
          ]
        },
        {
          "name": "stderr",
          "output_type": "stream",
          "text": [
            "Processing PDFs:  49%|████▉     | 64/131 [00:00<00:00, 155.07it/s]"
          ]
        },
        {
          "name": "stdout",
          "output_type": "stream",
          "text": [
            "✓ Found Mercedes document: 2020 Austrian Grand Prix - Offence - Car 44 - Track Limits turn 10.pdf\n",
            "✓ Found Mercedes document: 2020 Austrian Grand Prix - Decision - review of decision (document 33).pdf\n",
            "✓ Found Mercedes document: 2020 Russian Grand Prix - Offence - Car 44 - 2nd Practice start .pdf\n",
            "✓ Found Mercedes document: 2020 Russian Grand Prix - Replacement for Document 47 - Offence - Car 44 - 2nd Practice Start.pdf\n"
          ]
        },
        {
          "name": "stderr",
          "output_type": "stream",
          "text": [
            "Processing PDFs:  81%|████████  | 106/131 [00:00<00:00, 162.09it/s]"
          ]
        },
        {
          "name": "stdout",
          "output_type": "stream",
          "text": [
            "✓ Found Mercedes document: 2020 Austrian Grand Prix - Offence - Car 44 - incident with car 23.pdf\n",
            "✓ Found Mercedes document: 2020 Russian Grand Prix - Decision - Car 44 - Turn 2 .pdf\n",
            "✓ Found Mercedes document: 2020 Russian Grand Prix - Offence - Car 44 - 1st Practice start.pdf\n",
            "✓ Found Mercedes document: 2020 Russian Grand Prix - Replacement for Document 46 - Offence - Car 44 - 1st Practice Start.pdf\n"
          ]
        },
        {
          "name": "stderr",
          "output_type": "stream",
          "text": [
            "Processing PDFs: 100%|██████████| 131/131 [00:00<00:00, 163.71it/s]\n"
          ]
        },
        {
          "name": "stdout",
          "output_type": "stream",
          "text": [
            "✓ Found Mercedes document: 2020 Sakhir Grand Prix - Offence - Mercedes - Car 63 incorrect use of tyres.pdf\n",
            "✓ Found Mercedes document: 2020 Italian Grand Prix - Offence - Car 44 - Entering closed pit lane.pdf\n",
            "✓ Found Mercedes document: 2020 Austrian Grand Prix - Offence - Car 44 - Leaving the track in turn 10.pdf\n",
            "Found 13 Mercedes documents in 2020-infringement_profile\n",
            "\n",
            "Processing 175 PDF files in 2021-infringement_profile...\n"
          ]
        },
        {
          "name": "stderr",
          "output_type": "stream",
          "text": [
            "Processing PDFs:  10%|▉         | 17/175 [00:00<00:00, 167.37it/s]"
          ]
        },
        {
          "name": "stdout",
          "output_type": "stream",
          "text": [
            "✓ Found Mercedes document: 2021 Brazilian Grand Prix - Offence - Car 44 - DRS.pdf\n",
            "✓ Found Mercedes document: 2021 Qatar Grand Prix - Offence - Car 77 - Single waved yellow flag.pdf\n",
            "✓ Found Mercedes document: 2021 Hungarian Grand Prix - Offence - Car 77 - causing a collision.pdf\n"
          ]
        },
        {
          "name": "stderr",
          "output_type": "stream",
          "text": [
            "Processing PDFs:  25%|██▍       | 43/175 [00:00<00:00, 220.60it/s]"
          ]
        },
        {
          "name": "stdout",
          "output_type": "stream",
          "text": [
            "✓ Found Mercedes document: 2021 Brazilian Grand Prix - Offence - Car 44 - PU element.pdf\n"
          ]
        },
        {
          "name": "stderr",
          "output_type": "stream",
          "text": [
            "Processing PDFs:  38%|███▊      | 66/175 [00:00<00:00, 190.77it/s]"
          ]
        },
        {
          "name": "stdout",
          "output_type": "stream",
          "text": [
            "✓ Found Mercedes document: 2021 United States Grand Prix - Offence - Car 77 - PU elements.pdf\n"
          ]
        },
        {
          "name": "stderr",
          "output_type": "stream",
          "text": [
            "Processing PDFs:  51%|█████▏    | 90/175 [00:00<00:00, 207.99it/s]"
          ]
        },
        {
          "name": "stdout",
          "output_type": "stream",
          "text": [
            "✓ Found Mercedes document: 2021 Italian Grand Prix - Offence - Car 77 - PU elements.pdf\n",
            "✓ Found Mercedes document: 2021 Russian Grand Prix - Offence - Car 77 - PU elements.pdf\n",
            "✓ Found Mercedes document: 2021 Austrian Grand Prix - Decision - Car 77 - Alleged driving unnecessarily slowly .pdf\n",
            "✓ Found Mercedes document: 2021 Saudi Arabian Grand Prix - Offence - Car 44 - Impeding.pdf\n",
            "✓ Found Mercedes document: 2021 Turkish Grand Prix - Offence - Car 44 - PU element.pdf\n"
          ]
        },
        {
          "name": "stderr",
          "output_type": "stream",
          "text": [
            "Processing PDFs:  65%|██████▌   | 114/175 [00:00<00:00, 217.47it/s]"
          ]
        },
        {
          "name": "stdout",
          "output_type": "stream",
          "text": [
            "✓ Found Mercedes document: 2021 Hungarian Grand Prix - Offence - Car 77 - Pre-Race procedure.pdf\n"
          ]
        },
        {
          "name": "stderr",
          "output_type": "stream",
          "text": [
            "Processing PDFs:  79%|███████▉  | 139/175 [00:00<00:00, 225.29it/s]"
          ]
        },
        {
          "name": "stdout",
          "output_type": "stream",
          "text": [
            "✓ Found Mercedes document: 2021 Brazilian Grand Prix - Offence - Car 44 - Safety Belts.pdf\n",
            "✓ Found Mercedes document: 2021 Italian Grand Prix - Offence - Car 77 - PU element.pdf\n",
            "✓ Found Mercedes document: 2021 Mexican Grand Prix - Offence - Car 44 - Turn 2 .pdf\n"
          ]
        },
        {
          "name": "stderr",
          "output_type": "stream",
          "text": [
            "Processing PDFs:  93%|█████████▎| 162/175 [00:00<00:00, 190.76it/s]"
          ]
        },
        {
          "name": "stdout",
          "output_type": "stream",
          "text": [
            "✓ Found Mercedes document: 2021 Saudi Arabian Grand Prix - Decision - Car 44 - double yellow.pdf\n",
            "✓ Found Mercedes document: 2021 Abu Dhabi Grand Prix - Decision - Mercedes Protest Art. 48.8.pdf\n",
            "✓ Found Mercedes document: 2021 British Grand Prix - Offence - Car 44 - Causing a collision with car 33.pdf\n"
          ]
        },
        {
          "name": "stderr",
          "output_type": "stream",
          "text": [
            "Processing PDFs: 100%|██████████| 175/175 [00:00<00:00, 202.33it/s]\n"
          ]
        },
        {
          "name": "stdout",
          "output_type": "stream",
          "text": [
            "Found 17 Mercedes documents in 2021-infringement_profile\n",
            "\n",
            "Processing 227 PDF files in 2022-infringement_profile...\n"
          ]
        },
        {
          "name": "stderr",
          "output_type": "stream",
          "text": [
            "Processing PDFs:  11%|█         | 25/227 [00:00<00:00, 241.09it/s]"
          ]
        },
        {
          "name": "stdout",
          "output_type": "stream",
          "text": [
            "✓ Found Mercedes document: 2022 Abu Dhabi Grand Prix - Offence - Car 63 - Unsafe release.pdf\n",
            "✓ Found Mercedes document: 2022 Austrian Grand Prix - Offence - Car 44 - Parc Ferme Instructions.pdf\n",
            "✓ Found Mercedes document: 2022 Dutch Grand Prix - Offence - Car 44 - Alleged impeding of Car 55.pdf\n",
            "✓ Found Mercedes document: 2022 Austrian Grand Prix - Offence - Car 63 - Entered the track on foot.pdf\n"
          ]
        },
        {
          "name": "stderr",
          "output_type": "stream",
          "text": [
            "Processing PDFs:  22%|██▏       | 50/227 [00:00<00:00, 241.05it/s]"
          ]
        },
        {
          "name": "stdout",
          "output_type": "stream",
          "text": [
            "✓ Found Mercedes document: 2022 Azerbaijan Grand Prix - Decision - Car 44 - Allegedly driving unnecessarily slowly during Qualifying.pdf\n"
          ]
        },
        {
          "name": "stderr",
          "output_type": "stream",
          "text": [
            "Processing PDFs:  43%|████▎     | 98/227 [00:00<00:00, 214.10it/s]"
          ]
        },
        {
          "name": "stdout",
          "output_type": "stream",
          "text": [
            "✓ Found Mercedes document: 2022 Singapore Grand Prix - Offence - Car 63 - PU elements.pdf\n"
          ]
        },
        {
          "name": "stderr",
          "output_type": "stream",
          "text": [
            "Processing PDFs:  54%|█████▍    | 123/227 [00:00<00:00, 224.31it/s]"
          ]
        },
        {
          "name": "stdout",
          "output_type": "stream",
          "text": [
            "✓ Found Mercedes document: 2022 Austrian Grand Prix - Offence - Car 63 - Causing a collision.pdf\n",
            "✓ Found Mercedes document: 2022 Singapore Grand Prix - Offence - Car 63 - Pit lane speeding.pdf\n"
          ]
        },
        {
          "name": "stderr",
          "output_type": "stream",
          "text": [
            "Processing PDFs:  65%|██████▌   | 148/227 [00:00<00:00, 232.23it/s]"
          ]
        },
        {
          "name": "stdout",
          "output_type": "stream",
          "text": [
            "✓ Found Mercedes document: 2022 Abu Dhabi Grand Prix - Offence - Car 44 - Pit lane speeding.pdf\n",
            "✓ Found Mercedes document: 2022 Belgian Grand Prix - Offence - Car 44 - Alleged causing a collision.pdf\n",
            "✓ Found Mercedes document: 2022 Belgian Grand Prix - Offence - Car 44 - Refusal to visit Medical Centre.pdf\n",
            "✓ Found Mercedes document: 2022 Italian Grand Prix - Offence - Car 44 - PU element.pdf\n",
            "✓ Found Mercedes document: 2022 Australian Grand Prix - Decision - Car 44 - Alleged impeding of Car 18 at turn 13.pdf\n"
          ]
        },
        {
          "name": "stderr",
          "output_type": "stream",
          "text": [
            "Processing PDFs:  76%|███████▌  | 172/227 [00:00<00:00, 229.89it/s]"
          ]
        },
        {
          "name": "stdout",
          "output_type": "stream",
          "text": [
            "✓ Found Mercedes document: 2022 Austrian Grand Prix - Decision - Team Radio Communication - Formation Lap.pdf\n",
            "✓ Found Mercedes document: 2022 Abu Dhabi Grand Prix - Decision - Car 44 - Red Flag_0.pdf\n"
          ]
        },
        {
          "name": "stderr",
          "output_type": "stream",
          "text": [
            "Processing PDFs:  86%|████████▋ | 196/227 [00:00<00:00, 227.31it/s]"
          ]
        },
        {
          "name": "stdout",
          "output_type": "stream",
          "text": [
            "✓ Found Mercedes document: 2022 Singapore Grand Prix - Decision - Car 44 - Breach of Appendix L.pdf\n"
          ]
        },
        {
          "name": "stderr",
          "output_type": "stream",
          "text": [
            "Processing PDFs: 100%|██████████| 227/227 [00:01<00:00, 224.35it/s]\n"
          ]
        },
        {
          "name": "stdout",
          "output_type": "stream",
          "text": [
            "✓ Found Mercedes document: 2022 United States Grand Prix - Offence - Car 63 - T1 Incident with car 55.pdf\n",
            "Found 17 Mercedes documents in 2022-infringement_profile\n",
            "\n",
            "Processing 194 PDF files in 2023-infringement_profile...\n"
          ]
        },
        {
          "name": "stderr",
          "output_type": "stream",
          "text": [
            "Processing PDFs:   0%|          | 0/194 [00:00<?, ?it/s]"
          ]
        },
        {
          "name": "stdout",
          "output_type": "stream",
          "text": [
            "✓ Found Mercedes document: 2023 Qatar Grand Prix - Infringement - Car 44 - Crossing the track.pdf\n",
            "✓ Found Mercedes document: 2023 Monaco Grand Prix - Infringement - Car 44 - Pit Lane Speeding.pdf\n"
          ]
        },
        {
          "name": "stderr",
          "output_type": "stream",
          "text": [
            "Processing PDFs:  12%|█▏        | 23/194 [00:00<00:00, 229.01it/s]"
          ]
        },
        {
          "name": "stdout",
          "output_type": "stream",
          "text": [
            "✓ Found Mercedes document: 2023 United States Grand Prix - Infringement - Car 63 - Impeding of Car 16.pdf\n",
            "✓ Found Mercedes document: 2023 Abu Dhabi Grand Prix - Infringement - Mercedes - Team Principal (Updated).pdf\n",
            "✓ Found Mercedes document: 2023 Australian Grand Prix - Decision - Mercedes - Inaccurate Self Scrutineering Form.pdf\n"
          ]
        },
        {
          "name": "stderr",
          "output_type": "stream",
          "text": [
            "Processing PDFs:  24%|██▍       | 47/194 [00:00<00:00, 214.38it/s]"
          ]
        },
        {
          "name": "stdout",
          "output_type": "stream",
          "text": [
            "✓ Found Mercedes document: 2023 Spanish Grand Prix - Infringement - Car 63 - Abnormal change of direction.pdf\n",
            "✓ Found Mercedes document: 2023 Austrian Grand Prix - Infringement - Car 44 - Pit Lane Speeding.pdf\n",
            "✓ Found Mercedes document: 2023 Monaco Grand Prix - Infringement - Car 63 - Unsafe Rejoin.pdf\n"
          ]
        },
        {
          "name": "stderr",
          "output_type": "stream",
          "text": [
            "Processing PDFs:  36%|███▌      | 69/194 [00:00<00:00, 207.17it/s]"
          ]
        },
        {
          "name": "stdout",
          "output_type": "stream",
          "text": [
            "✓ Found Mercedes document: 2023 Miami Grand Prix - Decision - Car 44 - Turn 17 Incident.pdf\n",
            "✓ Found Mercedes document: 2023 United States Grand Prix - Infringement - Car 63 - Leaving the track.pdf\n",
            "✓ Found Mercedes document: 2023 Canadian Grand Prix - Decision - Car 44 - Alleged Unsafe Release.pdf\n"
          ]
        },
        {
          "name": "stderr",
          "output_type": "stream",
          "text": [
            "Processing PDFs:  48%|████▊     | 93/194 [00:00<00:00, 216.61it/s]"
          ]
        },
        {
          "name": "stdout",
          "output_type": "stream",
          "text": [
            "✓ Found Mercedes document: 2023 São Paulo Grand Prix - Infringement - Car 63 - Impeding at Pit Exit.pdf\n",
            "✓ Found Mercedes document: 2023 Spanish Grand Prix - Infringement - Mercedes - Parc Ferme.pdf\n",
            "✓ Found Mercedes document: 2023 Italian Grand Prix - Infringement - Car 63 - Leaving the track.pdf\n",
            "✓ Found Mercedes document: 2023 Bahrain Grand Prix - Decision - Car 44 - Wearing of Jewellery.pdf\n",
            "✓ Found Mercedes document: 2023 Saudi Arabian Grand Prix - Offence - Mercedes - Inaccurate Scrutineering Form.pdf\n"
          ]
        },
        {
          "name": "stderr",
          "output_type": "stream",
          "text": [
            "Processing PDFs:  59%|█████▉    | 115/194 [00:00<00:00, 178.29it/s]"
          ]
        },
        {
          "name": "stdout",
          "output_type": "stream",
          "text": [
            "✓ Found Mercedes document: 2023 Monaco Grand Prix - Infringement - Car 63 - Pit Lane Speeding.pdf\n",
            "✓ Found Mercedes document: 2023 Belgian Grand Prix - Infringement - Car 44 - Causing a Collision.pdf\n"
          ]
        },
        {
          "name": "stderr",
          "output_type": "stream",
          "text": [
            "Processing PDFs:  92%|█████████▏| 179/194 [00:00<00:00, 173.71it/s]"
          ]
        },
        {
          "name": "stdout",
          "output_type": "stream",
          "text": [
            "✓ Found Mercedes document: 2023 United States Grand Prix - Infringement - Car 44 - Technical non-compliance (Plank).pdf\n",
            "✓ Found Mercedes document: 2023 Las Vegas Grand Prix - Infringement - Car 63 - Causing a collision.pdf\n",
            "✓ Found Mercedes document: 2023 British Grand Prix - Infringement - Mercedes - Thursday Press Conference.pdf\n",
            "✓ Found Mercedes document: 2023 Italian Grand Prix - Infringement - Car 44 - Causing a Collision.pdf\n"
          ]
        },
        {
          "name": "stderr",
          "output_type": "stream",
          "text": [
            "Processing PDFs: 100%|██████████| 194/194 [00:01<00:00, 188.21it/s]\n"
          ]
        },
        {
          "name": "stdout",
          "output_type": "stream",
          "text": [
            "✓ Found Mercedes document: 2023 Austrian Grand Prix - Infringement - Car 44 - Leaving the track multiple times.pdf\n",
            "Found 23 Mercedes documents in 2023-infringement_profile\n",
            "\n",
            "Processing 215 PDF files in 2024-infringement_profile...\n"
          ]
        },
        {
          "name": "stderr",
          "output_type": "stream",
          "text": [
            "Processing PDFs:   9%|▉         | 19/215 [00:00<00:01, 181.32it/s]"
          ]
        },
        {
          "name": "stdout",
          "output_type": "stream",
          "text": [
            "✓ Found Mercedes document: 2024 São Paulo Grand Prix - Infringement - Car 63 - Tyre Pressure Checks.pdf\n",
            "✓ Found Mercedes document: 2024 Dutch Grand Prix - Infringement - Car 44 - impeding of Car 11.pdf\n",
            "✓ Found Mercedes document: 2024 Belgian Grand Prix - Infringement - Race Deleted Lap Times.pdf\n",
            "✓ Found Mercedes document: 2024 Qatar Grand Prix - Infringement - Car 44 - False Start.pdf\n",
            "✓ Found Mercedes document: 2024 Belgian Grand Prix - Infringement - Car 63 - Technical non-compliance (Weight).pdf\n",
            "✓ Found Mercedes document: 2024 Saudi Arabian Grand Prix - Infringement - Car 44 - Impeding of Car 2.pdf\n"
          ]
        },
        {
          "name": "stderr",
          "output_type": "stream",
          "text": [
            "Processing PDFs:  20%|█▉        | 42/215 [00:00<00:00, 204.07it/s]"
          ]
        },
        {
          "name": "stdout",
          "output_type": "stream",
          "text": [
            "✓ Found Mercedes document: 2024 São Paulo Grand Prix - Infringement - Qualifying Deleted Lap Times.pdf\n"
          ]
        },
        {
          "name": "stderr",
          "output_type": "stream",
          "text": [
            "Processing PDFs:  29%|██▉       | 63/215 [00:00<00:00, 177.51it/s]"
          ]
        },
        {
          "name": "stdout",
          "output_type": "stream",
          "text": [
            "✓ Found Mercedes document: 2024 British Grand Prix - Infringement - Qualifying Deleted Lap Times.pdf\n",
            "✓ Found Mercedes document: 2024 United States Grand Prix - Infringement - Car 63 - Breach of Parc Ferme.pdf\n",
            "✓ Found Mercedes document: 2024 Italian Grand Prix - Infringement - Race Deleted Lap Times.pdf\n",
            "✓ Found Mercedes document: 2024 Las Vegas Grand Prix - Infringement - Qualifying Deleted Lap Times.pdf\n"
          ]
        },
        {
          "name": "stderr",
          "output_type": "stream",
          "text": [
            "Processing PDFs:  38%|███▊      | 82/215 [00:00<00:00, 138.14it/s]"
          ]
        },
        {
          "name": "stdout",
          "output_type": "stream",
          "text": [
            "✓ Found Mercedes document: 2024 United States Grand Prix - Infringement - Race Deleted Lap Times.pdf\n",
            "✓ Found Mercedes document: 2024 São Paulo Grand Prix - Infringement - Race Deleted Lap Times.pdf\n",
            "✓ Found Mercedes document: 2024 Las Vegas Grand Prix - Infringement - Race Deleted Lap Times.pdf\n",
            "✓ Found Mercedes document: 2024 Miami Grand Prix - Infringement - Car 44 - Pit Lane Speeding.pdf\n",
            "✓ Found Mercedes document: 2024 Italian Grand Prix - Infringement - Qualifying Deleted Lap Times.pdf\n",
            "✓ Found Mercedes document: 2024 Qatar Grand Prix - Infringement - Car 63 - Failing to maintain distance behind the Safety Car.pdf\n",
            "✓ Found Mercedes document: 2024 Qatar Grand Prix - Infringement - Race Deleted Lap Times.pdf\n"
          ]
        },
        {
          "name": "stderr",
          "output_type": "stream",
          "text": [
            "Processing PDFs:  65%|██████▍   | 139/215 [00:00<00:00, 162.44it/s]"
          ]
        },
        {
          "name": "stdout",
          "output_type": "stream",
          "text": [
            "✓ Found Mercedes document: 2024 Azerbaijan Grand Prix - Infringement - Car 44 - Changes made during Parc Ferme.pdf\n",
            "✓ Found Mercedes document: 2024 Singapore Grand Prix - Infringement - Qualifying Deleted Lap Times (Corrected).pdf\n",
            "✓ Found Mercedes document: 2024 British Grand Prix - Infringement - Race Deleted Lap Times.pdf\n",
            "✓ Found Mercedes document: 2024 São Paulo Grand Prix - Infringement - Car 44 - Tyre Pressure Checks.pdf\n",
            "✓ Found Mercedes document: 2024 Hungarian Grand Prix - Infringement - Qualifying Deleted Lap Times.pdf\n",
            "✓ Found Mercedes document: 2024 São Paulo Grand Prix - Infringement - Qualifying Deleted Lap Times - Yellow Flags.pdf\n",
            "✓ Found Mercedes document: 2024 United States Grand Prix - Infringement - Qualifying Deleted Lap Times.pdf\n",
            "✓ Found Mercedes document: 2024 Austrian Grand Prix - Infringement - Car 44 - Unsafe release.pdf\n"
          ]
        },
        {
          "name": "stderr",
          "output_type": "stream",
          "text": [
            "Processing PDFs:  83%|████████▎ | 178/215 [00:01<00:00, 158.92it/s]"
          ]
        },
        {
          "name": "stdout",
          "output_type": "stream",
          "text": [
            "✓ Found Mercedes document: 2024 United States Grand Prix - Infringement - Sprint Deleted Lap Times.pdf\n",
            "✓ Found Mercedes document: 2024 United States Grand Prix - Infringement - Car 63 - Forcing another driver off the track.pdf\n",
            "✓ Found Mercedes document: 2024 Azerbaijan Grand Prix - Infringement - Qualifying Deleted Lap Times.pdf\n",
            "✓ Found Mercedes document: 2024 Mexico City Grand Prix - Infringement - Race Deleted Lap Times.pdf\n",
            "✓ Found Mercedes document: 2024 Azerbaijan Grand Prix - Infringement - Car 63 - Failing to slow for yellow flags.pdf\n"
          ]
        },
        {
          "name": "stderr",
          "output_type": "stream",
          "text": [
            "Processing PDFs: 100%|██████████| 215/215 [00:01<00:00, 153.91it/s]"
          ]
        },
        {
          "name": "stdout",
          "output_type": "stream",
          "text": [
            "✓ Found Mercedes document: 2024 Austrian Grand Prix - Infringement - Car 44 - Crossing the line at Pit Entry.pdf\n",
            "✓ Found Mercedes document: 2024 Qatar Grand Prix - Infringement - Car 44 - Speeding in the Pit Lane.pdf\n",
            "✓ Found Mercedes document: 2024 São Paulo Grand Prix - Infringement - Sprint Deleted Lap Times.pdf\n",
            "✓ Found Mercedes document: 2024 São Paulo Grand Prix - Infringement - Car 63 - Aborted Start incident.pdf\n",
            "✓ Found Mercedes document: 2024 Japanese Grand Prix - Infringement - Car 63 - Unsafe release.pdf\n",
            "Found 36 Mercedes documents in 2024-infringement_profile\n"
          ]
        },
        {
          "name": "stderr",
          "output_type": "stream",
          "text": [
            "\n"
          ]
        }
      ],
      "source": [
        "# Process all year folders\n",
        "all_mercedes_docs = []\n",
        "\n",
        "for year_folder in years:\n",
        "    mercedes_docs = process_year_folder(year_folder)\n",
        "    if mercedes_docs:\n",
        "        all_mercedes_docs.extend(mercedes_docs)\n",
        "        print(f\"Found {len(mercedes_docs)} Mercedes documents in {year_folder}\")\n",
        "    else:\n",
        "        print(f\"No Mercedes documents found in {year_folder}\")\n"
      ]
    },
    {
      "cell_type": "code",
      "execution_count": 20,
      "metadata": {},
      "outputs": [
        {
          "name": "stdout",
          "output_type": "stream",
          "text": [
            "\n",
            "==================================================\n",
            "MERCEDES DOCUMENT EXTRACTION SUMMARY\n",
            "==================================================\n",
            "Total Mercedes documents found: 106\n",
            "Total text length: 190,742 characters\n",
            "\n",
            "Documents by year:\n",
            "  2020-infringement_profile: 13 documents\n",
            "  2021-infringement_profile: 17 documents\n",
            "  2022-infringement_profile: 17 documents\n",
            "  2023-infringement_profile: 23 documents\n",
            "  2024-infringement_profile: 36 documents\n",
            "\n",
            "Sample documents:\n",
            "  - 2020 Austrian Grand Prix - Decision - Car 44 - alleged failure to slow for yellow flags.pdf (1438 chars)\n",
            "  - 2020 Austrian Grand Prix - Offence - Car 44 - Failure to slow for yellow flags (post review).pdf (1632 chars)\n",
            "  - 2020 Austrian Grand Prix - Offence - Car 44 - Track Limits turn 10.pdf (1361 chars)\n",
            "  - 2020 Austrian Grand Prix - Decision - review of decision (document 33).pdf (1124 chars)\n",
            "  - 2020 Russian Grand Prix - Offence - Car 44 - 2nd Practice start .pdf (1603 chars)\n",
            "\n",
            "Summary saved to: mercedes_documents_summary.csv\n"
          ]
        }
      ],
      "source": [
        "# Summary statistics\n",
        "if all_mercedes_docs:\n",
        "    df_mercedes = pd.DataFrame(all_mercedes_docs)\n",
        "    \n",
        "    print(\"\\n\" + \"=\"*50)\n",
        "    print(\"MERCEDES DOCUMENT EXTRACTION SUMMARY\")\n",
        "    print(\"=\"*50)\n",
        "    \n",
        "    print(f\"Total Mercedes documents found: {len(all_mercedes_docs)}\")\n",
        "    print(f\"Total text length: {sum([doc['text_length'] for doc in all_mercedes_docs]):,} characters\")\n",
        "    \n",
        "    print(\"\\nDocuments by year:\")\n",
        "    year_counts = df_mercedes['year'].value_counts().sort_index()\n",
        "    for year, count in year_counts.items():\n",
        "        print(f\"  {year}: {count} documents\")\n",
        "    \n",
        "    print(\"\\nSample documents:\")\n",
        "    for _, row in df_mercedes.head().iterrows():\n",
        "        print(f\"  - {row['pdf_file']} ({row['text_length']} chars)\")\n",
        "    \n",
        "    # Save summary\n",
        "    df_mercedes.to_csv('mercedes_documents_summary.csv', index=False)\n",
        "    print(\"\\nSummary saved to: mercedes_documents_summary.csv\")\n",
        "    \n",
        "else:\n",
        "    print(\"\\nNo Mercedes documents found. Please check the filtering criteria.\")\n"
      ]
    },
    {
      "cell_type": "code",
      "execution_count": 21,
      "metadata": {},
      "outputs": [
        {
          "name": "stdout",
          "output_type": "stream",
          "text": [
            "\n",
            "==================================================\n",
            "SAMPLE EXTRACTED TEXT\n",
            "==================================================\n",
            "Document: 2020 Austrian Grand Prix - Decision - Car 44 - alleged failure to slow for yellow flags.pdf\n",
            "Year: 2020-infringement_profile\n",
            "Length: 1438 characters\n",
            "\n",
            "First 1000 characters:\n",
            "--------------------------------------------------\n",
            "From The Stewards To The Team Manager, Mercedes-AMG Petronas F1 TeamDocument 33 Date 04 July 2020 Time 19:44 2020 AUSTRIAN GRAND PRIX 2 - 5 July 2020 The StewardsThe Stewards, having received a report from the Race Director, summoned (document 29) and heard from the driver and team representative, have considered the following matter and determine the following: No / Driver 44 - Lewis Hamilton Competitor Mercedes-AMG Petronas F1 Team Time 15:59 Session Qualifying Fact Alleged failure to slow for single waved yellow flags between turn 5 and 7. Offence Alleged breach of Appendix H Article 2.5.5.1.b) of the FIA International Sporting Code. Decision No further action. Reason The Stewards heard from the driver of Car 44 (Lewis Hamilton) and the team representative and have reviewed video and telemetry evidences. The driver mentioned that he passed a green light panel in turn 5. The video footage confirmed that there have been yellow flags and green light panels at the same time and therefor...\n"
          ]
        }
      ],
      "source": [
        "# Display sample of extracted text for verification\n",
        "if all_mercedes_docs:\n",
        "    print(\"\\n\" + \"=\"*50)\n",
        "    print(\"SAMPLE EXTRACTED TEXT\")\n",
        "    print(\"=\"*50)\n",
        "    \n",
        "    # Get first Mercedes document\n",
        "    first_doc = all_mercedes_docs[0]\n",
        "    year_path = base_path / first_doc['year']\n",
        "    txt_path = year_path / first_doc['txt_file']\n",
        "    \n",
        "    if txt_path.exists():\n",
        "        with open(txt_path, 'r', encoding='utf-8') as f:\n",
        "            sample_text = f.read()\n",
        "        \n",
        "        print(f\"Document: {first_doc['pdf_file']}\")\n",
        "        print(f\"Year: {first_doc['year']}\")\n",
        "        print(f\"Length: {len(sample_text)} characters\")\n",
        "        print(\"\\nFirst 1000 characters:\")\n",
        "        print(\"-\" * 50)\n",
        "        print(sample_text[:1000] + \"...\" if len(sample_text) > 1000 else sample_text)\n"
      ]
    },
    {
      "cell_type": "markdown",
      "metadata": {},
      "source": [
        "## Next Steps\n",
        "\n",
        "After running this notebook:\n",
        "1. Review the extracted Mercedes documents\n",
        "2. Check the sample text to ensure proper extraction\n",
        "3. Proceed to consolidation and preprocessing steps\n",
        "4. Begin text summarization process\n"
      ]
    },
    {
      "cell_type": "markdown",
      "metadata": {},
      "source": []
    },
    {
      "cell_type": "code",
      "execution_count": 28,
      "metadata": {},
      "outputs": [
        {
          "name": "stdout",
          "output_type": "stream",
          "text": [
            "Created group.csv with documents organized by year and race\n"
          ]
        }
      ],
      "source": [
        "import pandas as pd\n",
        "import os\n",
        "from pathlib import Path\n",
        "def combine_year_texts():\n",
        "    # Create empty list to store year, race and text data\n",
        "    race_texts = []\n",
        "    \n",
        "    # Iterate through each year folder\n",
        "    for year in years:\n",
        "        year_path = base_path / year\n",
        "        \n",
        "        if year_path.exists():\n",
        "            # Get all txt files in the year folder\n",
        "            txt_files = list(year_path.glob('*.txt'))\n",
        "            \n",
        "            # Process each race document separately\n",
        "            for txt_file in txt_files:\n",
        "                try:\n",
        "                    with open(txt_file, 'r', encoding='utf-8') as f:\n",
        "                        # Extract race name from filename\n",
        "                        race_name = txt_file.stem.split('-')[0].strip()\n",
        "                        \n",
        "                        # Add as separate row with year, race and content\n",
        "                        race_texts.append({\n",
        "                            'year': year.split('-')[0],  # Extract year from folder name\n",
        "                            'race': race_name,\n",
        "                            'text': f.read().strip()  # Remove extra whitespace\n",
        "                        })\n",
        "                except Exception as e:\n",
        "                    print(f\"Error reading {txt_file}: {e}\")\n",
        "    \n",
        "    # Create DataFrame with columns for year, race and text\n",
        "    df = pd.DataFrame(race_texts)\n",
        "    \n",
        "    # Sort by year and race\n",
        "    df = df.sort_values(['year', 'race'])\n",
        "    \n",
        "    # Save to CSV\n",
        "    df.to_csv('group.csv', index=False)\n",
        "    print(\"Created group.csv with documents organized by year and race\")\n",
        "# Run the function\n",
        "combine_year_texts()\n"
      ]
    },
    {
      "cell_type": "code",
      "execution_count": 34,
      "metadata": {},
      "outputs": [
        {
          "name": "stderr",
          "output_type": "stream",
          "text": [
            "Generating summaries:  80%|████████  | 4/5 [02:05<00:38, 38.54s/it]"
          ]
        },
        {
          "name": "stdout",
          "output_type": "stream",
          "text": [
            "Error processing year 2024 part 1: Error code: 400 - {'error': {'message': \"This model's maximum context length is 8192 tokens. However, your messages resulted in 9584 tokens. Please reduce the length of the messages.\", 'type': 'invalid_request_error', 'param': 'messages', 'code': 'context_length_exceeded'}}\n"
          ]
        },
        {
          "name": "stderr",
          "output_type": "stream",
          "text": [
            "Generating summaries: 100%|██████████| 5/5 [02:50<00:00, 34.15s/it]"
          ]
        },
        {
          "name": "stdout",
          "output_type": "stream",
          "text": [
            "Error processing year 2024 part 2: Error code: 429 - {'error': {'message': 'Request too large for gpt-4 in organization org-e8EBhIEVL8bFtiiZiLieriaX on tokens per min (TPM): Limit 10000, Requested 10009. The input or output tokens must be reduced in order to run successfully. Visit https://platform.openai.com/account/rate-limits to learn more.', 'type': 'tokens', 'param': None, 'code': 'rate_limit_exceeded'}}\n",
            "Created cluster_summary.csv with yearly summaries\n"
          ]
        },
        {
          "name": "stderr",
          "output_type": "stream",
          "text": [
            "\n"
          ]
        }
      ],
      "source": [
        "import os\n",
        "from dotenv import load_dotenv\n",
        "import openai\n",
        "import pandas as pd\n",
        "from tqdm import tqdm\n",
        "from openai import OpenAI\n",
        "\n",
        "# Load environment variables\n",
        "load_dotenv()\n",
        "\n",
        "# Set up OpenAI client\n",
        "client = OpenAI(api_key=os.getenv('OPENAI_API_KEY'))\n",
        "\n",
        "# Read the grouped data\n",
        "df = pd.read_csv('group.csv')\n",
        "\n",
        "# Create empty list to store summaries\n",
        "year_summaries = []\n",
        "\n",
        "# Group texts by year\n",
        "grouped_by_year = df.groupby('year')\n",
        "\n",
        "# Process each year\n",
        "for year, group in tqdm(grouped_by_year, desc=\"Generating summaries\"):\n",
        "    # Combine all texts for the year\n",
        "    year_texts = group['text'].tolist()\n",
        "    \n",
        "    # For large texts, split into two parts\n",
        "    if len(\" \".join(year_texts)) > 12000:  # Adjust threshold as needed\n",
        "        mid_point = len(year_texts) // 2\n",
        "        text_parts = [\n",
        "            \" \".join(year_texts[:mid_point]),\n",
        "            \" \".join(year_texts[mid_point:])\n",
        "        ]\n",
        "    else:\n",
        "        text_parts = [\" \".join(year_texts)]\n",
        "    \n",
        "    summaries = []\n",
        "    for i, text_part in enumerate(text_parts):\n",
        "        try:\n",
        "            response = client.chat.completions.create(\n",
        "                model=\"gpt-4\",\n",
        "                messages=[\n",
        "                    {\"role\": \"system\", \"content\": \"You are a helpful assistant that summarizes Formula 1 stewards' decisions and incidents.\"},\n",
        "                    {\"role\": \"user\", \"content\": f\"Summarize the following F1 stewards' decisions from {year} part {i+1} in 100 words:\\n\\n{text_part}\"}\n",
        "                ]\n",
        "            )\n",
        "            summaries.append(response.choices[0].message.content)\n",
        "        except Exception as e:\n",
        "            print(f\"Error processing year {year} part {i+1}: {e}\")\n",
        "            summaries.append(f\"Error processing part {i+1}\")\n",
        "    \n",
        "    # Combine summaries for the year\n",
        "    year_summaries.append({\n",
        "        'year': year,\n",
        "        'summary': \" \".join(summaries)\n",
        "    })\n",
        "\n",
        "# Create DataFrame with summaries\n",
        "summary_df = pd.DataFrame(year_summaries)\n",
        "\n",
        "# Save summaries to CSV\n",
        "summary_df.to_csv('cluster_summary.csv', index=False)\n",
        "print(\"Created cluster_summary.csv with yearly summaries\")\n"
      ]
    }
  ],
  "metadata": {
    "kernelspec": {
      "display_name": "textmining",
      "language": "python",
      "name": "textmining"
    },
    "language_info": {
      "codemirror_mode": {
        "name": "ipython",
        "version": 3
      },
      "file_extension": ".py",
      "mimetype": "text/x-python",
      "name": "python",
      "nbconvert_exporter": "python",
      "pygments_lexer": "ipython3",
      "version": "3.12.11"
    }
  },
  "nbformat": 4,
  "nbformat_minor": 2
}
