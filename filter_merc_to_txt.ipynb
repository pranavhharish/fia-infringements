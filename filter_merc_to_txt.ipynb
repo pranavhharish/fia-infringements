{
  "cells": [
    {
      "cell_type": "markdown",
      "metadata": {},
      "source": [
        "# Mercedes F1 Infringement Document Filter\n",
        "\n",
        "This notebook extracts Mercedes-specific infringement documents from the FIA PDF collection and converts them to text files for further processing.\n",
        "\n",
        "## Objective\n",
        "- Parse all PDF files in the Documents folder\n",
        "- Filter for documents addressed to \"Mercedes-AMG PETRONAS F1 Team\"\n",
        "- Extract text content from filtered PDFs\n",
        "- Save as individual .txt files organized by year\n"
      ]
    },
    {
      "cell_type": "code",
      "execution_count": 2,
      "metadata": {},
      "outputs": [
        {
          "name": "stdout",
          "output_type": "stream",
          "text": [
            "Collecting PyPDF2\n",
            "  Using cached pypdf2-3.0.1-py3-none-any.whl.metadata (6.8 kB)\n",
            "Using cached pypdf2-3.0.1-py3-none-any.whl (232 kB)\n",
            "Installing collected packages: PyPDF2\n",
            "Successfully installed PyPDF2-3.0.1\n",
            "Note: you may need to restart the kernel to use updated packages.\n"
          ]
        }
      ],
      "source": [
        "pip install PyPDF2"
      ]
    },
    {
      "cell_type": "code",
      "execution_count": 14,
      "metadata": {},
      "outputs": [],
      "source": [
        "# Import required libraries\n",
        "import os\n",
        "import re\n",
        "from pathlib import Path\n",
        "import PyPDF2\n",
        "import pandas as pd\n",
        "from tqdm import tqdm\n",
        "import warnings\n",
        "warnings.filterwarnings('ignore')\n"
      ]
    },
    {
      "cell_type": "code",
      "execution_count": 15,
      "metadata": {},
      "outputs": [
        {
          "name": "stdout",
          "output_type": "stream",
          "text": [
            "Available year folders:\n",
            "  2020-infirdgement_profile: 131 PDF files\n",
            "  2021-infridgement_profile: 175 PDF files\n",
            "  2022-infridgement_profile: 227 PDF files\n",
            "  2023-infridgement_profile: 194 PDF files\n"
          ]
        }
      ],
      "source": [
        "# Define paths\n",
        "base_path = Path(\"Documents\")\n",
        "years = [\"2020-infirdgement_profile\", \"2021-infridgement_profile\", \n",
        "         \"2022-infridgement_profile\", \"2023-infridgement_profile\"]\n",
        "\n",
        "print(\"Available year folders:\")\n",
        "for year in years:\n",
        "    year_path = base_path / year\n",
        "    if year_path.exists():\n",
        "        pdf_count = len(list(year_path.glob(\"*.pdf\")))\n",
        "        print(f\"  {year}: {pdf_count} PDF files\")\n"
      ]
    },
    {
      "cell_type": "code",
      "execution_count": 16,
      "metadata": {},
      "outputs": [],
      "source": [
        "# Function to extract text from PDF\n",
        "def extract_pdf_text(pdf_path):\n",
        "    \"\"\"\n",
        "    Extract text from PDF file\n",
        "    Returns the full text content\n",
        "    \"\"\"\n",
        "    try:\n",
        "        with open(pdf_path, 'rb') as file:\n",
        "            pdf_reader = PyPDF2.PdfReader(file)\n",
        "            text = \"\"\n",
        "            \n",
        "            for page_num in range(len(pdf_reader.pages)):\n",
        "                page = pdf_reader.pages[page_num]\n",
        "                text += page.extract_text() + \"\\n\"\n",
        "            \n",
        "            return text\n",
        "    except Exception as e:\n",
        "        print(f\"Error reading {pdf_path}: {e}\")\n",
        "        return None\n"
      ]
    },
    {
      "cell_type": "code",
      "execution_count": 17,
      "metadata": {},
      "outputs": [],
      "source": [
        "# Updated function to check if document is addressed to Mercedes (includes car numbers)\n",
        "def is_mercedes_document_updated(text):\n",
        "    \"\"\"\n",
        "    Check if the document is addressed to Mercedes team or involves Mercedes drivers\n",
        "    Look for the specific header pattern and car numbers\n",
        "    \"\"\"\n",
        "    if not text:\n",
        "        return False\n",
        "    \n",
        "    # Convert to lowercase for case-insensitive matching\n",
        "    text_lower = text.lower()\n",
        "    \n",
        "    # Look for Mercedes team references in the header section\n",
        "    mercedes_patterns = [\n",
        "        r'to:\\s*the team manager,?\\s*mercedes[-\\s]*amg\\s*petronas\\s*f1\\s*team',\n",
        "        r'mercedes[-\\s]*amg\\s*petronas\\s*f1\\s*team',\n",
        "        r'mercedes\\s*petronas\\s*f1\\s*team',\n",
        "        r'mercedes\\s*amg\\s*petronas'\n",
        "    ]\n",
        "    \n",
        "    # Mercedes car numbers by year:\n",
        "    # 2020-2021: Car 44 (Hamilton), Car 77 (Bottas)\n",
        "    # 2022-2023: Car 44 (Hamilton), Car 63 (Russell)\n",
        "    # Also Car 42 (Bottas in some contexts)\n",
        "    mercedes_car_numbers = [44, 77, 63, 42]\n",
        "    \n",
        "    # Check first 2000 characters (header section)\n",
        "    header_section = text_lower[:2000]\n",
        "    \n",
        "    # Check for Mercedes team references\n",
        "    for pattern in mercedes_patterns:\n",
        "        if re.search(pattern, header_section, re.IGNORECASE):\n",
        "            return True\n",
        "    \n",
        "    # Check for Mercedes car numbers in document title/header\n",
        "    # Look for patterns like \"Car 44\", \"Car 77\", etc.\n",
        "    for car_num in mercedes_car_numbers:\n",
        "        car_pattern = rf'\\bcar\\s*{car_num}\\b'\n",
        "        if re.search(car_pattern, header_section, re.IGNORECASE):\n",
        "            return True\n",
        "    \n",
        "    return False\n",
        "\n",
        "# Use the updated function instead of the original\n",
        "is_mercedes_document = is_mercedes_document_updated\n"
      ]
    },
    {
      "cell_type": "code",
      "execution_count": 18,
      "metadata": {},
      "outputs": [],
      "source": [
        "# Function to check if document is addressed to Mercedes\n",
        "def is_mercedes_document(text):\n",
        "    \"\"\"\n",
        "    Check if the document is addressed to Mercedes team\n",
        "    Look for the specific header pattern\n",
        "    \"\"\"\n",
        "    if not text:\n",
        "        return False\n",
        "    \n",
        "    # Convert to lowercase for case-insensitive matching\n",
        "    text_lower = text.lower()\n",
        "    \n",
        "    # Look for Mercedes team references in the header section\n",
        "    mercedes_patterns = [\n",
        "        r'to:\\s*the team manager,?\\s*mercedes[-\\s]*amg\\s*petronas\\s*f1\\s*team',\n",
        "        r'mercedes[-\\s]*amg\\s*petronas\\s*f1\\s*team',\n",
        "        r'mercedes\\s*petronas\\s*f1\\s*team',\n",
        "        r'mercedes\\s*amg\\s*petronas'\n",
        "    ]\n",
        "    \n",
        "    # Check first 2000 characters (header section)\n",
        "    header_section = text_lower[:2000]\n",
        "    \n",
        "    for pattern in mercedes_patterns:\n",
        "        if re.search(pattern, header_section, re.IGNORECASE):\n",
        "            return True\n",
        "    \n",
        "    return False\n"
      ]
    },
    {
      "cell_type": "code",
      "execution_count": 19,
      "metadata": {},
      "outputs": [],
      "source": [
        "# Function to clean and save text content\n",
        "def clean_text(text):\n",
        "    \"\"\"\n",
        "    Clean extracted text\n",
        "    \"\"\"\n",
        "    if not text:\n",
        "        return \"\"\n",
        "    \n",
        "    # Remove excessive whitespace and normalize\n",
        "    text = re.sub(r'\\s+', ' ', text)\n",
        "    text = text.strip()\n",
        "    \n",
        "    return text\n"
      ]
    },
    {
      "cell_type": "code",
      "execution_count": 20,
      "metadata": {},
      "outputs": [],
      "source": [
        "# Main processing function\n",
        "def process_year_folder(year_folder):\n",
        "    \"\"\"\n",
        "    Process all PDFs in a year folder and extract Mercedes documents\n",
        "    \"\"\"\n",
        "    year_path = base_path / year_folder\n",
        "    if not year_path.exists():\n",
        "        print(f\"Folder {year_path} does not exist\")\n",
        "        return\n",
        "    \n",
        "    pdf_files = list(year_path.glob(\"*.pdf\"))\n",
        "    print(f\"\\nProcessing {len(pdf_files)} PDF files in {year_folder}...\")\n",
        "    \n",
        "    mercedes_docs = []\n",
        "    \n",
        "    for pdf_file in tqdm(pdf_files, desc=\"Processing PDFs\"):\n",
        "        # Extract text from PDF\n",
        "        text = extract_pdf_text(pdf_file)\n",
        "        \n",
        "        if text and is_mercedes_document(text):\n",
        "            # Clean the text\n",
        "            cleaned_text = clean_text(text)\n",
        "            \n",
        "            # Create output filename\n",
        "            txt_filename = pdf_file.stem + \".txt\"\n",
        "            txt_path = year_path / txt_filename\n",
        "            \n",
        "            # Save as text file\n",
        "            try:\n",
        "                with open(txt_path, 'w', encoding='utf-8') as f:\n",
        "                    f.write(cleaned_text)\n",
        "                \n",
        "                mercedes_docs.append({\n",
        "                    'pdf_file': pdf_file.name,\n",
        "                    'txt_file': txt_filename,\n",
        "                    'year': year_folder,\n",
        "                    'text_length': len(cleaned_text)\n",
        "                })\n",
        "                \n",
        "                print(f\"✓ Found Mercedes document: {pdf_file.name}\")\n",
        "                \n",
        "            except Exception as e:\n",
        "                print(f\"Error saving {txt_filename}: {e}\")\n",
        "    \n",
        "    return mercedes_docs\n"
      ]
    },
    {
      "cell_type": "code",
      "execution_count": 21,
      "metadata": {},
      "outputs": [
        {
          "name": "stdout",
          "output_type": "stream",
          "text": [
            "\n",
            "Processing 131 PDF files in 2020-infirdgement_profile...\n"
          ]
        },
        {
          "name": "stderr",
          "output_type": "stream",
          "text": [
            "Processing PDFs:   5%|▌         | 7/131 [00:00<00:10, 11.42it/s]"
          ]
        },
        {
          "name": "stdout",
          "output_type": "stream",
          "text": [
            "✓ Found Mercedes document: 2020 Austrian Grand Prix - Decision - Car 44 - alleged failure to slow for yellow flags.pdf\n"
          ]
        },
        {
          "name": "stderr",
          "output_type": "stream",
          "text": [
            "Processing PDFs:  12%|█▏        | 16/131 [00:01<00:06, 18.63it/s]"
          ]
        },
        {
          "name": "stdout",
          "output_type": "stream",
          "text": [
            "✓ Found Mercedes document: 2020 Austrian Grand Prix - Decision - review of decision (document 33).pdf\n",
            "✓ Found Mercedes document: 2020 Austrian Grand Prix - Offence - Car 44 - Failure to slow for yellow flags (post review).pdf\n",
            "✓ Found Mercedes document: 2020 Austrian Grand Prix - Offence - Car 44 - incident with car 23.pdf\n",
            "✓ Found Mercedes document: 2020 Austrian Grand Prix - Offence - Car 44 - Leaving the track in turn 10.pdf\n",
            "✓ Found Mercedes document: 2020 Austrian Grand Prix - Offence - Car 44 - Track Limits turn 10.pdf\n"
          ]
        },
        {
          "name": "stderr",
          "output_type": "stream",
          "text": [
            "Processing PDFs:  57%|█████▋    | 75/131 [00:01<00:01, 55.30it/s]"
          ]
        },
        {
          "name": "stdout",
          "output_type": "stream",
          "text": [
            "✓ Found Mercedes document: 2020 Italian Grand Prix - Offence - Car 44 - Entering closed pit lane.pdf\n"
          ]
        },
        {
          "name": "stderr",
          "output_type": "stream",
          "text": [
            "Processing PDFs:  67%|██████▋   | 88/131 [00:02<00:00, 56.92it/s]"
          ]
        },
        {
          "name": "stdout",
          "output_type": "stream",
          "text": [
            "✓ Found Mercedes document: 2020 Russian Grand Prix - Decision - Car 44 - Turn 2 .pdf\n",
            "✓ Found Mercedes document: 2020 Russian Grand Prix - Offence - Car 44 - 1st Practice start.pdf\n",
            "✓ Found Mercedes document: 2020 Russian Grand Prix - Offence - Car 44 - 2nd Practice start .pdf\n"
          ]
        },
        {
          "name": "stderr",
          "output_type": "stream",
          "text": [
            "Processing PDFs:  78%|███████▊  | 102/131 [00:02<00:00, 59.21it/s]"
          ]
        },
        {
          "name": "stdout",
          "output_type": "stream",
          "text": [
            "✓ Found Mercedes document: 2020 Russian Grand Prix - Replacement for Document 46 - Offence - Car 44 - 1st Practice Start.pdf\n",
            "✓ Found Mercedes document: 2020 Russian Grand Prix - Replacement for Document 47 - Offence - Car 44 - 2nd Practice Start.pdf\n",
            "✓ Found Mercedes document: 2020 Sakhir Grand Prix - Offence - Mercedes - Car 63 incorrect use of tyres.pdf\n"
          ]
        },
        {
          "name": "stderr",
          "output_type": "stream",
          "text": [
            "Processing PDFs: 100%|██████████| 131/131 [00:02<00:00, 44.95it/s]\n"
          ]
        },
        {
          "name": "stdout",
          "output_type": "stream",
          "text": [
            "Found 13 Mercedes documents in 2020-infirdgement_profile\n",
            "\n",
            "Processing 175 PDF files in 2021-infridgement_profile...\n"
          ]
        },
        {
          "name": "stderr",
          "output_type": "stream",
          "text": [
            "Processing PDFs:   3%|▎         | 5/175 [00:00<00:03, 48.15it/s]"
          ]
        },
        {
          "name": "stdout",
          "output_type": "stream",
          "text": [
            "✓ Found Mercedes document: 2021 Abu Dhabi Grand Prix - Decision - Mercedes Protest Art. 48.8.pdf\n"
          ]
        },
        {
          "name": "stderr",
          "output_type": "stream",
          "text": [
            "Processing PDFs:   7%|▋         | 12/175 [00:00<00:02, 57.44it/s]"
          ]
        },
        {
          "name": "stdout",
          "output_type": "stream",
          "text": [
            "✓ Found Mercedes document: 2021 Austrian Grand Prix - Decision - Car 77 - Alleged driving unnecessarily slowly .pdf\n"
          ]
        },
        {
          "name": "stderr",
          "output_type": "stream",
          "text": [
            "Processing PDFs:  34%|███▍      | 60/175 [00:01<00:01, 59.04it/s]"
          ]
        },
        {
          "name": "stdout",
          "output_type": "stream",
          "text": [
            "✓ Found Mercedes document: 2021 Brazilian Grand Prix - Offence - Car 44 - DRS.pdf\n",
            "✓ Found Mercedes document: 2021 Brazilian Grand Prix - Offence - Car 44 - PU element.pdf\n",
            "✓ Found Mercedes document: 2021 Brazilian Grand Prix - Offence - Car 44 - Safety Belts.pdf\n",
            "✓ Found Mercedes document: 2021 British Grand Prix - Offence - Car 44 - Causing a collision with car 33.pdf\n"
          ]
        },
        {
          "name": "stderr",
          "output_type": "stream",
          "text": [
            "Processing PDFs:  58%|█████▊    | 102/175 [00:01<00:01, 61.54it/s]"
          ]
        },
        {
          "name": "stdout",
          "output_type": "stream",
          "text": [
            "✓ Found Mercedes document: 2021 Hungarian Grand Prix - Offence - Car 77 - causing a collision.pdf\n",
            "✓ Found Mercedes document: 2021 Hungarian Grand Prix - Offence - Car 77 - Pre-Race procedure.pdf\n"
          ]
        },
        {
          "name": "stderr",
          "output_type": "stream",
          "text": [
            "Processing PDFs:  66%|██████▋   | 116/175 [00:01<00:00, 63.63it/s]"
          ]
        },
        {
          "name": "stdout",
          "output_type": "stream",
          "text": [
            "✓ Found Mercedes document: 2021 Italian Grand Prix - Offence - Car 77 - PU element.pdf\n",
            "✓ Found Mercedes document: 2021 Italian Grand Prix - Offence - Car 77 - PU elements.pdf\n",
            "✓ Found Mercedes document: 2021 Mexican Grand Prix - Offence - Car 44 - Turn 2 .pdf\n"
          ]
        },
        {
          "name": "stderr",
          "output_type": "stream",
          "text": [
            "Processing PDFs:  83%|████████▎ | 145/175 [00:02<00:00, 64.54it/s]"
          ]
        },
        {
          "name": "stdout",
          "output_type": "stream",
          "text": [
            "✓ Found Mercedes document: 2021 Qatar Grand Prix - Offence - Car 77 - Single waved yellow flag.pdf\n",
            "✓ Found Mercedes document: 2021 Russian Grand Prix - Offence - Car 77 - PU elements.pdf\n"
          ]
        },
        {
          "name": "stderr",
          "output_type": "stream",
          "text": [
            "Processing PDFs:  91%|█████████ | 159/175 [00:02<00:00, 63.67it/s]"
          ]
        },
        {
          "name": "stdout",
          "output_type": "stream",
          "text": [
            "✓ Found Mercedes document: 2021 Saudi Arabian Grand Prix - Decision - Car 44 - double yellow.pdf\n",
            "✓ Found Mercedes document: 2021 Saudi Arabian Grand Prix - Offence - Car 44 - Impeding.pdf\n"
          ]
        },
        {
          "name": "stderr",
          "output_type": "stream",
          "text": [
            "Processing PDFs:  99%|█████████▉| 173/175 [00:02<00:00, 62.34it/s]"
          ]
        },
        {
          "name": "stdout",
          "output_type": "stream",
          "text": [
            "✓ Found Mercedes document: 2021 Turkish Grand Prix - Offence - Car 44 - PU element.pdf\n",
            "✓ Found Mercedes document: 2021 United States Grand Prix - Offence - Car 77 - PU elements.pdf\n"
          ]
        },
        {
          "name": "stderr",
          "output_type": "stream",
          "text": [
            "Processing PDFs: 100%|██████████| 175/175 [00:03<00:00, 55.20it/s]\n"
          ]
        },
        {
          "name": "stdout",
          "output_type": "stream",
          "text": [
            "Found 17 Mercedes documents in 2021-infridgement_profile\n",
            "\n",
            "Processing 227 PDF files in 2022-infridgement_profile...\n"
          ]
        },
        {
          "name": "stderr",
          "output_type": "stream",
          "text": [
            "Processing PDFs:   1%|▏         | 3/227 [00:00<00:22,  9.96it/s]"
          ]
        },
        {
          "name": "stdout",
          "output_type": "stream",
          "text": [
            "✓ Found Mercedes document: 2022 Abu Dhabi Grand Prix - Decision - Car 44 - Red Flag_0.pdf\n",
            "✓ Found Mercedes document: 2022 Abu Dhabi Grand Prix - Offence - Car 44 - Pit lane speeding.pdf\n",
            "✓ Found Mercedes document: 2022 Abu Dhabi Grand Prix - Offence - Car 63 - Unsafe release.pdf\n"
          ]
        },
        {
          "name": "stderr",
          "output_type": "stream",
          "text": [
            "Processing PDFs:   9%|▉         | 20/227 [00:01<00:10, 20.36it/s]"
          ]
        },
        {
          "name": "stdout",
          "output_type": "stream",
          "text": [
            "✓ Found Mercedes document: 2022 Australian Grand Prix - Decision - Car 44 - Alleged impeding of Car 18 at turn 13.pdf\n",
            "✓ Found Mercedes document: 2022 Austrian Grand Prix - Decision - Team Radio Communication - Formation Lap.pdf\n"
          ]
        },
        {
          "name": "stderr",
          "output_type": "stream",
          "text": [
            "Processing PDFs:  18%|█▊        | 40/227 [00:02<00:04, 42.21it/s]"
          ]
        },
        {
          "name": "stdout",
          "output_type": "stream",
          "text": [
            "✓ Found Mercedes document: 2022 Austrian Grand Prix - Offence - Car 44 - Parc Ferme Instructions.pdf\n",
            "✓ Found Mercedes document: 2022 Austrian Grand Prix - Offence - Car 63 - Causing a collision.pdf\n",
            "✓ Found Mercedes document: 2022 Austrian Grand Prix - Offence - Car 63 - Entered the track on foot.pdf\n"
          ]
        },
        {
          "name": "stderr",
          "output_type": "stream",
          "text": [
            "Processing PDFs:  23%|██▎       | 53/227 [00:02<00:03, 46.76it/s]"
          ]
        },
        {
          "name": "stdout",
          "output_type": "stream",
          "text": [
            "✓ Found Mercedes document: 2022 Azerbaijan Grand Prix - Decision - Car 44 - Allegedly driving unnecessarily slowly during Qualifying.pdf\n"
          ]
        },
        {
          "name": "stderr",
          "output_type": "stream",
          "text": [
            "Processing PDFs:  33%|███▎      | 75/227 [00:02<00:02, 57.90it/s]"
          ]
        },
        {
          "name": "stdout",
          "output_type": "stream",
          "text": [
            "✓ Found Mercedes document: 2022 Belgian Grand Prix - Offence - Car 44 - Alleged causing a collision.pdf\n",
            "✓ Found Mercedes document: 2022 Belgian Grand Prix - Offence - Car 44 - Refusal to visit Medical Centre.pdf\n"
          ]
        },
        {
          "name": "stderr",
          "output_type": "stream",
          "text": [
            "Processing PDFs:  52%|█████▏    | 118/227 [00:03<00:01, 65.19it/s]"
          ]
        },
        {
          "name": "stdout",
          "output_type": "stream",
          "text": [
            "✓ Found Mercedes document: 2022 Dutch Grand Prix - Offence - Car 44 - Alleged impeding of Car 55.pdf\n"
          ]
        },
        {
          "name": "stderr",
          "output_type": "stream",
          "text": [
            "Processing PDFs:  61%|██████    | 139/227 [00:03<00:01, 65.76it/s]"
          ]
        },
        {
          "name": "stdout",
          "output_type": "stream",
          "text": [
            "✓ Found Mercedes document: 2022 Italian Grand Prix - Offence - Car 44 - PU element.pdf\n"
          ]
        },
        {
          "name": "stderr",
          "output_type": "stream",
          "text": [
            "Processing PDFs:  89%|████████▊ | 201/227 [00:04<00:00, 54.18it/s]"
          ]
        },
        {
          "name": "stdout",
          "output_type": "stream",
          "text": [
            "✓ Found Mercedes document: 2022 Singapore Grand Prix - Decision - Car 44 - Breach of Appendix L.pdf\n",
            "✓ Found Mercedes document: 2022 Singapore Grand Prix - Offence - Car 63 - Pit lane speeding.pdf\n",
            "✓ Found Mercedes document: 2022 Singapore Grand Prix - Offence - Car 63 - PU elements.pdf\n"
          ]
        },
        {
          "name": "stderr",
          "output_type": "stream",
          "text": [
            "Processing PDFs: 100%|██████████| 227/227 [00:05<00:00, 42.87it/s]\n"
          ]
        },
        {
          "name": "stdout",
          "output_type": "stream",
          "text": [
            "✓ Found Mercedes document: 2022 United States Grand Prix - Offence - Car 63 - T1 Incident with car 55.pdf\n",
            "Found 17 Mercedes documents in 2022-infridgement_profile\n",
            "\n",
            "Processing 194 PDF files in 2023-infridgement_profile...\n"
          ]
        },
        {
          "name": "stderr",
          "output_type": "stream",
          "text": [
            "Processing PDFs:   3%|▎         | 6/194 [00:00<00:03, 57.88it/s]"
          ]
        },
        {
          "name": "stdout",
          "output_type": "stream",
          "text": [
            "✓ Found Mercedes document: 2023 Abu Dhabi Grand Prix - Infringement - Mercedes - Team Principal (Updated).pdf\n"
          ]
        },
        {
          "name": "stderr",
          "output_type": "stream",
          "text": [
            "Processing PDFs:  10%|▉         | 19/194 [00:00<00:04, 40.63it/s]"
          ]
        },
        {
          "name": "stdout",
          "output_type": "stream",
          "text": [
            "✓ Found Mercedes document: 2023 Australian Grand Prix - Decision - Mercedes - Inaccurate Self Scrutineering Form.pdf\n"
          ]
        },
        {
          "name": "stderr",
          "output_type": "stream",
          "text": [
            "Processing PDFs:  17%|█▋        | 33/194 [00:00<00:03, 53.33it/s]"
          ]
        },
        {
          "name": "stdout",
          "output_type": "stream",
          "text": [
            "✓ Found Mercedes document: 2023 Austrian Grand Prix - Infringement - Car 44 - Leaving the track multiple times.pdf\n",
            "✓ Found Mercedes document: 2023 Austrian Grand Prix - Infringement - Car 44 - Pit Lane Speeding.pdf\n"
          ]
        },
        {
          "name": "stderr",
          "output_type": "stream",
          "text": [
            "Processing PDFs:  28%|██▊       | 54/194 [00:01<00:02, 52.56it/s]"
          ]
        },
        {
          "name": "stdout",
          "output_type": "stream",
          "text": [
            "✓ Found Mercedes document: 2023 Bahrain Grand Prix - Decision - Car 44 - Wearing of Jewellery.pdf\n"
          ]
        },
        {
          "name": "stderr",
          "output_type": "stream",
          "text": [
            "Processing PDFs:  35%|███▌      | 68/194 [00:01<00:02, 57.06it/s]"
          ]
        },
        {
          "name": "stdout",
          "output_type": "stream",
          "text": [
            "✓ Found Mercedes document: 2023 Belgian Grand Prix - Infringement - Car 44 - Causing a Collision.pdf\n",
            "✓ Found Mercedes document: 2023 British Grand Prix - Infringement - Mercedes - Thursday Press Conference.pdf\n",
            "✓ Found Mercedes document: 2023 Canadian Grand Prix - Decision - Car 44 - Alleged Unsafe Release.pdf\n"
          ]
        },
        {
          "name": "stderr",
          "output_type": "stream",
          "text": [
            "Processing PDFs:  53%|█████▎    | 103/194 [00:01<00:01, 61.92it/s]"
          ]
        },
        {
          "name": "stdout",
          "output_type": "stream",
          "text": [
            "✓ Found Mercedes document: 2023 Italian Grand Prix - Infringement - Car 44 - Causing a Collision.pdf\n",
            "✓ Found Mercedes document: 2023 Italian Grand Prix - Infringement - Car 63 - Leaving the track.pdf\n",
            "✓ Found Mercedes document: 2023 Las Vegas Grand Prix - Infringement - Car 63 - Causing a collision.pdf\n"
          ]
        },
        {
          "name": "stderr",
          "output_type": "stream",
          "text": [
            "Processing PDFs:  64%|██████▍   | 124/194 [00:02<00:01, 62.86it/s]"
          ]
        },
        {
          "name": "stdout",
          "output_type": "stream",
          "text": [
            "✓ Found Mercedes document: 2023 Miami Grand Prix - Decision - Car 44 - Turn 17 Incident.pdf\n"
          ]
        },
        {
          "name": "stderr",
          "output_type": "stream",
          "text": [
            "Processing PDFs:  72%|███████▏  | 140/194 [00:02<00:00, 67.50it/s]"
          ]
        },
        {
          "name": "stdout",
          "output_type": "stream",
          "text": [
            "✓ Found Mercedes document: 2023 Monaco Grand Prix - Infringement - Car 44 - Pit Lane Speeding.pdf\n",
            "✓ Found Mercedes document: 2023 Monaco Grand Prix - Infringement - Car 63 - Pit Lane Speeding.pdf\n",
            "✓ Found Mercedes document: 2023 Monaco Grand Prix - Infringement - Car 63 - Unsafe Rejoin.pdf\n"
          ]
        },
        {
          "name": "stderr",
          "output_type": "stream",
          "text": [
            "Processing PDFs:  85%|████████▌ | 165/194 [00:03<00:00, 53.41it/s]"
          ]
        },
        {
          "name": "stdout",
          "output_type": "stream",
          "text": [
            "✓ Found Mercedes document: 2023 Qatar Grand Prix - Infringement - Car 44 - Crossing the track.pdf\n",
            "✓ Found Mercedes document: 2023 Saudi Arabian Grand Prix - Offence - Mercedes - Inaccurate Scrutineering Form.pdf\n"
          ]
        },
        {
          "name": "stderr",
          "output_type": "stream",
          "text": [
            "Processing PDFs:  95%|█████████▍| 184/194 [00:03<00:00, 41.93it/s]"
          ]
        },
        {
          "name": "stdout",
          "output_type": "stream",
          "text": [
            "✓ Found Mercedes document: 2023 Spanish Grand Prix - Infringement - Car 63 - Abnormal change of direction.pdf\n",
            "✓ Found Mercedes document: 2023 Spanish Grand Prix - Infringement - Mercedes - Parc Ferme.pdf\n",
            "✓ Found Mercedes document: 2023 São Paulo Grand Prix - Infringement - Car 63 - Impeding at Pit Exit.pdf\n"
          ]
        },
        {
          "name": "stderr",
          "output_type": "stream",
          "text": [
            "Processing PDFs: 100%|██████████| 194/194 [00:03<00:00, 51.09it/s]"
          ]
        },
        {
          "name": "stdout",
          "output_type": "stream",
          "text": [
            "✓ Found Mercedes document: 2023 United States Grand Prix - Infringement - Car 44 - Technical non-compliance (Plank).pdf\n",
            "✓ Found Mercedes document: 2023 United States Grand Prix - Infringement - Car 63 - Impeding of Car 16.pdf\n",
            "✓ Found Mercedes document: 2023 United States Grand Prix - Infringement - Car 63 - Leaving the track.pdf\n",
            "Found 23 Mercedes documents in 2023-infridgement_profile\n"
          ]
        },
        {
          "name": "stderr",
          "output_type": "stream",
          "text": [
            "\n"
          ]
        }
      ],
      "source": [
        "# Process all year folders\n",
        "all_mercedes_docs = []\n",
        "\n",
        "for year_folder in years:\n",
        "    mercedes_docs = process_year_folder(year_folder)\n",
        "    if mercedes_docs:\n",
        "        all_mercedes_docs.extend(mercedes_docs)\n",
        "        print(f\"Found {len(mercedes_docs)} Mercedes documents in {year_folder}\")\n",
        "    else:\n",
        "        print(f\"No Mercedes documents found in {year_folder}\")\n"
      ]
    },
    {
      "cell_type": "code",
      "execution_count": 22,
      "metadata": {},
      "outputs": [
        {
          "name": "stdout",
          "output_type": "stream",
          "text": [
            "\n",
            "==================================================\n",
            "MERCEDES DOCUMENT EXTRACTION SUMMARY\n",
            "==================================================\n",
            "Total Mercedes documents found: 70\n",
            "Total text length: 114,921 characters\n",
            "\n",
            "Documents by year:\n",
            "  2020-infirdgement_profile: 13 documents\n",
            "  2021-infridgement_profile: 17 documents\n",
            "  2022-infridgement_profile: 17 documents\n",
            "  2023-infridgement_profile: 23 documents\n",
            "\n",
            "Sample documents:\n",
            "  - 2020 Austrian Grand Prix - Decision - Car 44 - alleged failure to slow for yellow flags.pdf (1438 chars)\n",
            "  - 2020 Austrian Grand Prix - Decision - review of decision (document 33).pdf (1124 chars)\n",
            "  - 2020 Austrian Grand Prix - Offence - Car 44 - Failure to slow for yellow flags (post review).pdf (1632 chars)\n",
            "  - 2020 Austrian Grand Prix - Offence - Car 44 - incident with car 23.pdf (1418 chars)\n",
            "  - 2020 Austrian Grand Prix - Offence - Car 44 - Leaving the track in turn 10.pdf (1623 chars)\n",
            "\n",
            "Summary saved to: mercedes_documents_summary.csv\n"
          ]
        }
      ],
      "source": [
        "# Summary statistics\n",
        "if all_mercedes_docs:\n",
        "    df_mercedes = pd.DataFrame(all_mercedes_docs)\n",
        "    \n",
        "    print(\"\\n\" + \"=\"*50)\n",
        "    print(\"MERCEDES DOCUMENT EXTRACTION SUMMARY\")\n",
        "    print(\"=\"*50)\n",
        "    \n",
        "    print(f\"Total Mercedes documents found: {len(all_mercedes_docs)}\")\n",
        "    print(f\"Total text length: {sum([doc['text_length'] for doc in all_mercedes_docs]):,} characters\")\n",
        "    \n",
        "    print(\"\\nDocuments by year:\")\n",
        "    year_counts = df_mercedes['year'].value_counts().sort_index()\n",
        "    for year, count in year_counts.items():\n",
        "        print(f\"  {year}: {count} documents\")\n",
        "    \n",
        "    print(\"\\nSample documents:\")\n",
        "    for _, row in df_mercedes.head().iterrows():\n",
        "        print(f\"  - {row['pdf_file']} ({row['text_length']} chars)\")\n",
        "    \n",
        "    # Save summary\n",
        "    df_mercedes.to_csv('mercedes_documents_summary.csv', index=False)\n",
        "    print(\"\\nSummary saved to: mercedes_documents_summary.csv\")\n",
        "    \n",
        "else:\n",
        "    print(\"\\nNo Mercedes documents found. Please check the filtering criteria.\")\n"
      ]
    },
    {
      "cell_type": "code",
      "execution_count": 23,
      "metadata": {},
      "outputs": [
        {
          "name": "stdout",
          "output_type": "stream",
          "text": [
            "\n",
            "==================================================\n",
            "SAMPLE EXTRACTED TEXT\n",
            "==================================================\n",
            "Document: 2020 Austrian Grand Prix - Decision - Car 44 - alleged failure to slow for yellow flags.pdf\n",
            "Year: 2020-infirdgement_profile\n",
            "Length: 1438 characters\n",
            "\n",
            "First 1000 characters:\n",
            "--------------------------------------------------\n",
            "From The Stewards To The Team Manager, Mercedes-AMG Petronas F1 TeamDocument 33 Date 04 July 2020 Time 19:44 2020 AUSTRIAN GRAND PRIX 2 - 5 July 2020 The StewardsThe Stewards, having received a report from the Race Director, summoned (document 29) and heard from the driver and team representative, have considered the following matter and determine the following: No / Driver 44 - Lewis Hamilton Competitor Mercedes-AMG Petronas F1 Team Time 15:59 Session Qualifying Fact Alleged failure to slow for single waved yellow flags between turn 5 and 7. Offence Alleged breach of Appendix H Article 2.5.5.1.b) of the FIA International Sporting Code. Decision No further action. Reason The Stewards heard from the driver of Car 44 (Lewis Hamilton) and the team representative and have reviewed video and telemetry evidences. The driver mentioned that he passed a green light panel in turn 5. The video footage confirmed that there have been yellow flags and green light panels at the same time and therefor...\n"
          ]
        }
      ],
      "source": [
        "# Display sample of extracted text for verification\n",
        "if all_mercedes_docs:\n",
        "    print(\"\\n\" + \"=\"*50)\n",
        "    print(\"SAMPLE EXTRACTED TEXT\")\n",
        "    print(\"=\"*50)\n",
        "    \n",
        "    # Get first Mercedes document\n",
        "    first_doc = all_mercedes_docs[0]\n",
        "    year_path = base_path / first_doc['year']\n",
        "    txt_path = year_path / first_doc['txt_file']\n",
        "    \n",
        "    if txt_path.exists():\n",
        "        with open(txt_path, 'r', encoding='utf-8') as f:\n",
        "            sample_text = f.read()\n",
        "        \n",
        "        print(f\"Document: {first_doc['pdf_file']}\")\n",
        "        print(f\"Year: {first_doc['year']}\")\n",
        "        print(f\"Length: {len(sample_text)} characters\")\n",
        "        print(\"\\nFirst 1000 characters:\")\n",
        "        print(\"-\" * 50)\n",
        "        print(sample_text[:1000] + \"...\" if len(sample_text) > 1000 else sample_text)\n"
      ]
    },
    {
      "cell_type": "markdown",
      "metadata": {},
      "source": [
        "## Next Steps\n",
        "\n",
        "After running this notebook:\n",
        "1. Review the extracted Mercedes documents\n",
        "2. Check the sample text to ensure proper extraction\n",
        "3. Proceed to consolidation and preprocessing steps\n",
        "4. Begin text summarization process\n"
      ]
    }
  ],
  "metadata": {
    "kernelspec": {
      "display_name": "Python 3",
      "language": "python",
      "name": "python3"
    },
    "language_info": {
      "codemirror_mode": {
        "name": "ipython",
        "version": 3
      },
      "file_extension": ".py",
      "mimetype": "text/x-python",
      "name": "python",
      "nbconvert_exporter": "python",
      "pygments_lexer": "ipython3",
      "version": "3.12.4"
    }
  },
  "nbformat": 4,
  "nbformat_minor": 2
}
